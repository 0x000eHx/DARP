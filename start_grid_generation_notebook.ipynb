{
 "cells": [
  {
   "cell_type": "markdown",
   "metadata": {
    "pycharm": {
     "name": "#%% md\n"
    }
   },
   "source": [
    "Prepare the execution environment"
   ]
  },
  {
   "cell_type": "code",
   "execution_count": null,
   "metadata": {
    "pycharm": {
     "name": "#%%\n"
    }
   },
   "outputs": [],
   "source": [
    "import osmnx as ox\n",
    "from helper_funcs.gridding_helpers import Grid_Generation_Task_Manager, generate_grid, generate_file_name\n",
    "from helper_funcs.setting_helpers import load_yaml_config_file"
   ]
  },
  {
   "cell_type": "markdown",
   "metadata": {
    "pycharm": {
     "name": "#%% md\n"
    }
   },
   "source": [
    "Now load the settings from the settings yaml file for the area (lake) of interest:"
   ]
  },
  {
   "cell_type": "code",
   "execution_count": null,
   "metadata": {
    "pycharm": {
     "name": "#%%\n"
    }
   },
   "outputs": [],
   "source": [
    "settings_yaml_filepath = './settings/settings_talsperre_malter.yaml'\n",
    "settings = load_yaml_config_file(settings_yaml_filepath)\n",
    "\n",
    "tile_edge_lengths = settings['sensor_line_length_meter']\n",
    "area_name = settings['area_name']\n",
    "polygon_threshold = settings['polygon_threshold']"
   ]
  },
  {
   "cell_type": "markdown",
   "metadata": {
    "pycharm": {
     "name": "#%% md\n"
    }
   },
   "source": [
    "### How To find the area of interest?\n",
    "\n",
    "First you need to find the area of interest...\n",
    "Let's use the OSMnx module to get data through the OSM Overpass API.\n",
    "\n",
    "Either use the OSM ID to find the geometry:"
   ]
  },
  {
   "cell_type": "code",
   "execution_count": null,
   "metadata": {
    "pycharm": {
     "name": "#%%\n"
    }
   },
   "outputs": [],
   "source": [
    "malter_area = ox.geocode_to_gdf(query=[\"R2141671\"], by_osmid=True)  # river dam Malter in Saxony, Germany\n",
    "\n",
    "malter_area_exploded = malter_area.geometry.explode(index_parts=True)  # no index_parts / .tolist()\n",
    "biggest_area = max(malter_area_exploded, key=lambda a: a.area)"
   ]
  },
  {
   "cell_type": "markdown",
   "metadata": {
    "pycharm": {
     "name": "#%% md\n"
    }
   },
   "source": [
    "or build a search query and feed it to the OSMnx place search:"
   ]
  },
  {
   "cell_type": "code",
   "execution_count": null,
   "metadata": {
    "pycharm": {
     "name": "#%%\n"
    }
   },
   "outputs": [],
   "source": [
    "# place = \"Talsperre Malter, Saxony, Germany\"\n",
    "# tags = {'water': True}\n",
    "# ox_test = ox.geometries_from_place(place, tags)\n",
    "# ox_test.head()"
   ]
  },
  {
   "cell_type": "markdown",
   "metadata": {
    "pycharm": {
     "name": "#%% md\n"
    }
   },
   "source": [
    "### Now draw the regions inside the area of interest\n",
    "\n",
    "Create areas to examine as Polygons for every path (scanner) line width with a Task Manager.\n",
    "This uses ipyleaflet to draw interactive Maps.\n",
    "\n",
    "If the saved areas overlap between smaller and greater tile widths: The greater width gets prioritized.\n",
    "\n",
    "Create a Task Manager with the region of interest as area specification (must be MultiPolygon):"
   ]
  },
  {
   "cell_type": "code",
   "execution_count": null,
   "metadata": {
    "pycharm": {
     "name": "#%%\n"
    }
   },
   "outputs": [],
   "source": [
    "task_manager = Grid_Generation_Task_Manager(tile_edge_lengths, polygon_threshold, biggest_area, area_name)"
   ]
  },
  {
   "cell_type": "markdown",
   "metadata": {
    "pycharm": {
     "name": "#%% md\n"
    }
   },
   "source": [
    "Wanna set a specific region for one tile (scanner) line width?\n",
    "Use the task manager set_areas() methode and use the Polygon Draw functionality.\n",
    "If you don't draw anything specific for one scanner line width defined in the settings there will be no restrictions and the grid generation tries to fill the whole area of interest."
   ]
  },
  {
   "cell_type": "code",
   "execution_count": null,
   "metadata": {
    "pycharm": {
     "name": "#%%\n"
    }
   },
   "outputs": [],
   "source": [
    "task_manager.set_areas()"
   ]
  },
  {
   "cell_type": "markdown",
   "metadata": {
    "pycharm": {
     "name": "#%% md\n"
    }
   },
   "source": [
    "If you are done with all your region specifications you can use the generate_grid function and start the grid generation process by giving it the task manager. It calls the task manager internal methode extract_tasks to get all the necessary data for the grid generation."
   ]
  },
  {
   "cell_type": "code",
   "execution_count": null,
   "metadata": {
    "pycharm": {
     "name": "#%%\n"
    }
   },
   "outputs": [],
   "source": [
    "grid_gdf = generate_grid(task_manager)\n",
    "\n",
    "if not grid_gdf.empty:\n",
    "    # save best results\n",
    "    file_name = generate_file_name(settings['area_name'])\n",
    "    grid_gdf.to_file(filename=f'./geodataframes/{file_name}_grid.geojson', driver=\"GeoJSON\")\n",
    "    print(\"Successfully finished grid generation and saved geometry to file!\\n\",\n",
    "          f'./geodataframes/{file_name}_grid.geojson')\n"
   ]
  },
  {
   "cell_type": "markdown",
   "metadata": {
    "pycharm": {
     "name": "#%% md\n"
    }
   },
   "source": [
    "In the end you can examine your results from the grid generation process by using the GeoDataframe explore method (which draws a folium Map)."
   ]
  },
  {
   "cell_type": "code",
   "execution_count": null,
   "metadata": {
    "pycharm": {
     "name": "#%%\n"
    }
   },
   "outputs": [],
   "source": [
    "grid_gdf.explore('covered_area', cmap='Spectral')"
   ]
  },
  {
   "cell_type": "code",
   "execution_count": null,
   "metadata": {
    "pycharm": {
     "name": "#%%\n"
    }
   },
   "outputs": [],
   "source": []
  }
 ],
 "metadata": {
  "kernelspec": {
   "display_name": "Python 3 (ipykernel)",
   "language": "python",
   "name": "python3"
  },
  "language_info": {
   "codemirror_mode": {
    "name": "ipython",
    "version": 3
   },
   "file_extension": ".py",
   "mimetype": "text/x-python",
   "name": "python",
   "nbconvert_exporter": "python",
   "pygments_lexer": "ipython3",
   "version": "3.9.13"
  }
 },
 "nbformat": 4,
 "nbformat_minor": 1
}