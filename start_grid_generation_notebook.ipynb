{
 "cells": [
  {
   "cell_type": "markdown",
   "metadata": {
    "pycharm": {
     "name": "#%% md\n"
    }
   },
   "source": [
    "Prepare the execution environment"
   ]
  },
  {
   "cell_type": "code",
   "execution_count": 1,
   "metadata": {
    "pycharm": {
     "name": "#%%\n"
    }
   },
   "outputs": [],
   "source": [
    "import osmnx as ox\n",
    "from gridding_helpers import Grid_Generation_Task_Manager, generate_grid, generate_file_name\n",
    "from setting_helpers import load_yaml_config_file"
   ]
  },
  {
   "cell_type": "markdown",
   "metadata": {
    "pycharm": {
     "name": "#%% md\n"
    }
   },
   "source": [
    "Now load the settings from the settings yaml file for the area (lake) of interest:"
   ]
  },
  {
   "cell_type": "code",
   "execution_count": 2,
   "metadata": {
    "pycharm": {
     "name": "#%%\n"
    }
   },
   "outputs": [],
   "source": [
    "settings_yaml_filepath = './settings/settings_talsperre_malter.yaml'\n",
    "settings = load_yaml_config_file(settings_yaml_filepath)\n",
    "\n",
    "tile_edge_lengths = settings['sensor_line_length_meter']\n",
    "file_name = settings['geojson_file_name']\n",
    "polygon_threshold = settings['polygon_threshold']"
   ]
  },
  {
   "cell_type": "markdown",
   "metadata": {
    "pycharm": {
     "name": "#%% md\n"
    }
   },
   "source": [
    "### How To find the lake or area of interest?!\n",
    "First you need to find the area of interest...\n",
    "Lets use the OSMnx module to get data through the OSM Overpass API.\n",
    "\n",
    "Either use the OSM ID to find the geometry:"
   ]
  },
  {
   "cell_type": "code",
   "execution_count": null,
   "metadata": {
    "pycharm": {
     "name": "#%%\n",
     "is_executing": true
    }
   },
   "outputs": [],
   "source": [
    "malter_area = ox.geocode_to_gdf(query=[\"R2141671\"], by_osmid=True)  # river dam Malter in Saxony, Germany\n",
    "malter_area.head(1).geometry[0]"
   ]
  },
  {
   "cell_type": "markdown",
   "metadata": {
    "pycharm": {
     "name": "#%% md\n"
    }
   },
   "source": [
    "or build a search query and feed it to the OSMnx place search:"
   ]
  },
  {
   "cell_type": "code",
   "execution_count": 4,
   "metadata": {
    "pycharm": {
     "name": "#%%\n"
    }
   },
   "outputs": [],
   "source": [
    "# place = \"Talsperre Malter, Saxony, Germany\"\n",
    "# tags = {'water': True}\n",
    "# ox_test = ox.geometries_from_place(place, tags)\n",
    "# ox_test.head()"
   ]
  },
  {
   "cell_type": "markdown",
   "metadata": {
    "pycharm": {
     "name": "#%% md\n"
    }
   },
   "source": [
    "Create areas to examine as Polygons for every sensor scanner width with a Task Manager.\n",
    "This uses ipyleaflet to draw interactive Maps.\n",
    "\n",
    "If the saved areas overlap between smaller and greater widths: The greater width gets prioritized.\n",
    "\n",
    "Create a Task Manager with the region of interest as area specification (must be MultiPolygon):"
   ]
  },
  {
   "cell_type": "code",
   "execution_count": 5,
   "metadata": {
    "pycharm": {
     "name": "#%%\n"
    }
   },
   "outputs": [],
   "source": [
    "task_manager = Grid_Generation_Task_Manager(tile_edge_lengths, polygon_threshold, malter_area.head(1).geometry[0], file_name)"
   ]
  },
  {
   "cell_type": "markdown",
   "source": [
    "Wanna set the area for one sensor scanner width? Show its Map for the interactive MultiPolygon draw.\n",
    "If you don't draw anything for this scanner width there will be no restrictions and the grid generation tries to fill the whole region of interest."
   ],
   "metadata": {
    "collapsed": false,
    "pycharm": {
     "name": "#%% md\n"
    }
   }
  },
  {
   "cell_type": "code",
   "execution_count": null,
   "outputs": [],
   "source": [
    "one_task = task_manager.set_task_area(tile_edge_lengths[-1])\n",
    "one_task.task_map"
   ],
   "metadata": {
    "collapsed": false,
    "pycharm": {
     "name": "#%%\n",
     "is_executing": true
    }
   }
  },
  {
   "cell_type": "markdown",
   "source": [
    "Confirm all chosen Polygons for this sensor scanner width.\n",
    "You MUST always do this if you want to set specific areas to examine.\n",
    "This either confirms your drawn areas or applies the whole region of interest for this scanner width."
   ],
   "metadata": {
    "collapsed": false,
    "pycharm": {
     "name": "#%% md\n"
    }
   }
  },
  {
   "cell_type": "code",
   "execution_count": null,
   "metadata": {
    "pycharm": {
     "name": "#%%\n",
     "is_executing": true
    }
   },
   "outputs": [],
   "source": [
    "one_task.confirm_choices()"
   ]
  },
  {
   "cell_type": "markdown",
   "source": [
    "Specify the area for every scanner width you need."
   ],
   "metadata": {
    "collapsed": false,
    "pycharm": {
     "name": "#%% md\n"
    }
   }
  },
  {
   "cell_type": "code",
   "execution_count": null,
   "outputs": [],
   "source": [
    "one_task = task_manager.set_task_area(tile_edge_lengths[-2])\n",
    "one_task.task_map"
   ],
   "metadata": {
    "collapsed": false,
    "pycharm": {
     "name": "#%%\n",
     "is_executing": true
    }
   }
  },
  {
   "cell_type": "code",
   "execution_count": null,
   "outputs": [],
   "source": [
    "one_task.confirm_choices()  # don't forget to save your specifications"
   ],
   "metadata": {
    "collapsed": false,
    "pycharm": {
     "name": "#%%\n"
    }
   }
  },
  {
   "cell_type": "markdown",
   "source": [
    "If you are done with all your area specifications (or you don't need to define specific areas for every sensor scanner width)\n",
    "you can use the generate_grid method and start the grid generation process with giving it the task manager."
   ],
   "metadata": {
    "collapsed": false,
    "pycharm": {
     "name": "#%% md\n"
    }
   }
  },
  {
   "cell_type": "code",
   "execution_count": null,
   "outputs": [],
   "source": [
    "grid_gdf = generate_grid(task_manager)\n",
    "\n",
    "if not grid_gdf.empty:\n",
    "    # save best results\n",
    "    file_name = generate_file_name(settings['geojson_file_name'])\n",
    "    grid_gdf.to_file(filename=f'./geodataframes/{file_name}_grid.geojson', driver=\"GeoJSON\")\n",
    "    print(\"Successfully finished grid generation and saved geometry to file!\\n\",\n",
    "          f'./geodataframes/{file_name}_grid.geojson')"
   ],
   "metadata": {
    "collapsed": false,
    "pycharm": {
     "name": "#%%\n"
    }
   }
  },
  {
   "cell_type": "code",
   "execution_count": null,
   "metadata": {},
   "outputs": [],
   "source": []
  }
 ],
 "metadata": {
  "kernelspec": {
   "display_name": "Python 3 (ipykernel)",
   "language": "python",
   "name": "python3"
  },
  "language_info": {
   "codemirror_mode": {
    "name": "ipython",
    "version": 3
   },
   "file_extension": ".py",
   "mimetype": "text/x-python",
   "name": "python",
   "nbconvert_exporter": "python",
   "pygments_lexer": "ipython3",
   "version": "3.9.13"
  }
 },
 "nbformat": 4,
 "nbformat_minor": 1
}